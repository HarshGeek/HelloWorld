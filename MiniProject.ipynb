{
  "nbformat": 4,
  "nbformat_minor": 0,
  "metadata": {
    "colab": {
      "provenance": [],
      "authorship_tag": "ABX9TyOGdfnl/6eV4rs3VNlZ35kM",
      "include_colab_link": true
    },
    "kernelspec": {
      "name": "python3",
      "display_name": "Python 3"
    },
    "language_info": {
      "name": "python"
    }
  },
  "cells": [
    {
      "cell_type": "markdown",
      "metadata": {
        "id": "view-in-github",
        "colab_type": "text"
      },
      "source": [
        "<a href=\"https://colab.research.google.com/github/HarshGeek/HelloWorld/blob/master/MiniProject.ipynb\" target=\"_parent\"><img src=\"https://colab.research.google.com/assets/colab-badge.svg\" alt=\"Open In Colab\"/></a>"
      ]
    },
    {
      "cell_type": "code",
      "execution_count": 8,
      "metadata": {
        "colab": {
          "base_uri": "https://localhost:8080/"
        },
        "id": "NEpcoEZ4PFvt",
        "outputId": "dbe6240f-0c13-4682-91b1-603e9df8d697"
      },
      "outputs": [
        {
          "output_type": "stream",
          "name": "stdout",
          "text": [
            "{100: {'name': 'Ram', 'major': 'cse'}, 101: {'name': 'Rani', 'major': 'ece'}}\n",
            "Ram cse\n",
            "Rani\n",
            "{'name': 'Ram', 'major': 'cse'}\n",
            "dict_items([(100, {'name': 'Ram', 'major': 'cse'}), (101, {'name': 'Rani', 'major': 'ece'})])\n",
            "dict_keys([100, 101])\n"
          ]
        }
      ],
      "source": [
        "d = {}\n",
        "d[100] = {\"name\" : \"Ram\", \"major\" : \"cse\"}\n",
        "d[101] = {\"name\" : \"Rani\", \"major\" : \"ece\"}\n",
        "print(d)\n",
        "\n",
        "print(d[100][\"name\"], d[100][\"major\"])\n",
        "print(d[101][\"name\"])\n",
        "\n",
        "print(d.get(100))\n",
        "print(d.items())\n",
        "print(d.keys())"
      ]
    },
    {
      "cell_type": "code",
      "source": [
        "# Mini Project - Student Database\n",
        "\n",
        "def create_student_database():\n",
        "    # create an empty dict\n",
        "    database = {}\n",
        "    return database\n",
        "\n",
        "def add_student(database):\n",
        "  # add a new student to the database\n",
        "  usn = input(\"enter the student usn no : \")\n",
        "  name = input(\"enter the student name : \")\n",
        "  major =input(\"enter the student dept : \")\n",
        "  database[usn] = {\"name\" : name, \"major\" : major}\n",
        "  print(\"student added successfully\")\n",
        "\n",
        "def find_student_info(database):\n",
        "  # retrieves information of the student\n",
        "  stundent_id = input(\"enter the usn no : \")\n",
        "  student_info = database.get(stundent_id)\n",
        "  if student_info:\n",
        "    print(\"name\", student_info[\"name\"])\n",
        "    print(\"major\", student_info[\"major\"])\n",
        "  else:\n",
        "    print(\"student not found\")\n",
        "\n",
        "def display_database(database):\n",
        "  # prints contents of database\n",
        "\n",
        "  if database:\n",
        "    print(\"Student Database\")\n",
        "    print(database)\n",
        "  else:\n",
        "    print(\"database is empty\")\n",
        "\n",
        "def remove_student(database):\n",
        "  # removes a student from the database\n",
        "  student_id = input(\"enter the usn no : \")\n",
        "  if student_id in database:\n",
        "    del database[student_id]\n",
        "    print(\"student removed successfully\")\n",
        "  else:\n",
        "    print(\"student not found\")\n",
        "\n",
        "\n",
        "# main program loop\n",
        "\n",
        "student_database = create_student_database()\n",
        "\n",
        "while True:\n",
        "  print(\"\\nStudent Database Menu : \")\n",
        "  print(\"1. Add Student\")\n",
        "  print(\"2. Find Student Info\")\n",
        "  print(\"3. Display Database\")\n",
        "  print(\"4. Remove Student\")\n",
        "  print(\"5. Exit\")\n",
        "\n",
        "  choice = input(\"enter your choice : \")\n",
        "\n",
        "  if choice == \"1\":\n",
        "    add_student(student_database)\n",
        "  elif choice == \"2\":\n",
        "    find_student_info(student_database)\n",
        "  elif choice == \"3\":\n",
        "    display_database(student_database)\n",
        "  elif choice == \"4\":\n",
        "    remove_student(student_database)\n",
        "  elif choice == \"5\":\n",
        "    break\n",
        "  else:\n",
        "    print(\"invalid choice\")\n",
        "\n",
        "\n"
      ],
      "metadata": {
        "colab": {
          "base_uri": "https://localhost:8080/"
        },
        "id": "SrhF0wppRG9G",
        "outputId": "e2c42742-6241-4858-bdfe-c6f44d8c875c"
      },
      "execution_count": 14,
      "outputs": [
        {
          "name": "stdout",
          "output_type": "stream",
          "text": [
            "\n",
            "Student Database Menu : \n",
            "1. Add Student\n",
            "2. Find Student Info\n",
            "3. Display Database\n",
            "3. Remove Student\n",
            "5. Exit\n",
            "enter your choice : 1\n",
            "enter the student usn no : 100\n",
            "enter the student name : Ram\n",
            "enter the student dept : Non\n",
            "student added successfully\n",
            "\n",
            "Student Database Menu : \n",
            "1. Add Student\n",
            "2. Find Student Info\n",
            "3. Display Database\n",
            "3. Remove Student\n",
            "5. Exit\n",
            "enter your choice : 3\n",
            "Student Database\n",
            "{'100': {'name': 'Ram', 'major': 'Non'}}\n",
            "\n",
            "Student Database Menu : \n",
            "1. Add Student\n",
            "2. Find Student Info\n",
            "3. Display Database\n",
            "3. Remove Student\n",
            "5. Exit\n",
            "enter your choice : 4\n",
            "enter the usn no : 100\n",
            "student removed successfully\n",
            "\n",
            "Student Database Menu : \n",
            "1. Add Student\n",
            "2. Find Student Info\n",
            "3. Display Database\n",
            "3. Remove Student\n",
            "5. Exit\n",
            "enter your choice : 3\n",
            "database is empty\n",
            "\n",
            "Student Database Menu : \n",
            "1. Add Student\n",
            "2. Find Student Info\n",
            "3. Display Database\n",
            "3. Remove Student\n",
            "5. Exit\n",
            "enter your choice : 5\n"
          ]
        }
      ]
    }
  ]
}