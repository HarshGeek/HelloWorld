{
  "nbformat": 4,
  "nbformat_minor": 0,
  "metadata": {
    "colab": {
      "provenance": [],
      "authorship_tag": "ABX9TyMdsfhGo91ttsrxbgMd5Anb",
      "include_colab_link": true
    },
    "kernelspec": {
      "name": "python3",
      "display_name": "Python 3"
    },
    "language_info": {
      "name": "python"
    }
  },
  "cells": [
    {
      "cell_type": "markdown",
      "metadata": {
        "id": "view-in-github",
        "colab_type": "text"
      },
      "source": [
        "<a href=\"https://colab.research.google.com/github/HarshGeek/HelloWorld/blob/master/MiniProject.ipynb\" target=\"_parent\"><img src=\"https://colab.research.google.com/assets/colab-badge.svg\" alt=\"Open In Colab\"/></a>"
      ]
    },
    {
      "cell_type": "code",
      "execution_count": 8,
      "metadata": {
        "colab": {
          "base_uri": "https://localhost:8080/"
        },
        "id": "NEpcoEZ4PFvt",
        "outputId": "dbe6240f-0c13-4682-91b1-603e9df8d697"
      },
      "outputs": [
        {
          "output_type": "stream",
          "name": "stdout",
          "text": [
            "{100: {'name': 'Ram', 'major': 'cse'}, 101: {'name': 'Rani', 'major': 'ece'}}\n",
            "Ram cse\n",
            "Rani\n",
            "{'name': 'Ram', 'major': 'cse'}\n",
            "dict_items([(100, {'name': 'Ram', 'major': 'cse'}), (101, {'name': 'Rani', 'major': 'ece'})])\n",
            "dict_keys([100, 101])\n"
          ]
        }
      ],
      "source": [
        "d = {}\n",
        "d[100] = {\"name\" : \"Ram\", \"major\" : \"cse\"}\n",
        "d[101] = {\"name\" : \"Rani\", \"major\" : \"ece\"}\n",
        "print(d)\n",
        "\n",
        "print(d[100][\"name\"], d[100][\"major\"])\n",
        "print(d[101][\"name\"])\n",
        "\n",
        "print(d.get(100))\n",
        "print(d.items())\n",
        "print(d.keys())"
      ]
    },
    {
      "cell_type": "code",
      "source": [],
      "metadata": {
        "id": "SrhF0wppRG9G"
      },
      "execution_count": null,
      "outputs": []
    }
  ]
}